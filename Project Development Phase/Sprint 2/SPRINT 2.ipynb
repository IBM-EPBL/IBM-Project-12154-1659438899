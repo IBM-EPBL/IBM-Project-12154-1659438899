{
 "cells": [
  {
   "cell_type": "markdown",
   "id": "c0c3ae2f",
   "metadata": {},
   "source": [
    "# SPRINT 2"
   ]
  },
  {
   "cell_type": "markdown",
   "id": "e899c747",
   "metadata": {},
   "source": [
    "#### PNT2022TMID27693"
   ]
  },
  {
   "cell_type": "code",
   "execution_count": 1,
   "id": "a9e0e5d4",
   "metadata": {},
   "outputs": [],
   "source": [
    "import numpy as np\n",
    "import tensorflow\n",
    "from tensorflow.keras.datasets import mnist \n",
    "from tensorflow.keras.models import Sequential \n",
    "from tensorflow.keras import layers \n",
    "from tensorflow.keras.layers import Dense, Flatten \n",
    "from tensorflow.keras.layers import Conv2D \n",
    "from keras.optimizers import Adam \n",
    "from keras. utils import np_utils\n",
    "import matplotlib.pyplot as plt   "
   ]
  },
  {
   "cell_type": "code",
   "execution_count": 2,
   "id": "fec66d97",
   "metadata": {},
   "outputs": [],
   "source": [
    "(x_train, y_train), (x_test, y_test)=mnist.load_data ()\n",
    "x_train=x_train.reshape (60000, 28, 28, 1).astype('float32')\n",
    "x_test=x_test.reshape (10000, 28, 28, 1).astype ('float32')\n",
    "number_of_classes = 10  \n",
    "y_train = np_utils.to_categorical (y_train, number_of_classes) \n",
    "y_test = np_utils.to_categorical (y_test, number_of_classes)"
   ]
  },
  {
   "cell_type": "markdown",
   "id": "70f8cbc7",
   "metadata": {},
   "source": [
    "## Add CNN Layer"
   ]
  },
  {
   "cell_type": "code",
   "execution_count": 3,
   "id": "0699c33b",
   "metadata": {},
   "outputs": [],
   "source": [
    "model=Sequential ()"
   ]
  },
  {
   "cell_type": "code",
   "execution_count": 4,
   "id": "2ac8f962",
   "metadata": {},
   "outputs": [],
   "source": [
    "model.add(Conv2D(64, (3, 3), input_shape=(28, 28, 1), activation='relu'))\n",
    "model.add(Conv2D(32, (3, 3), activation = 'relu'))"
   ]
  },
  {
   "cell_type": "code",
   "execution_count": 5,
   "id": "24b7eb45",
   "metadata": {},
   "outputs": [],
   "source": [
    "model.add(Flatten())"
   ]
  },
  {
   "cell_type": "code",
   "execution_count": 6,
   "id": "7a068218",
   "metadata": {},
   "outputs": [],
   "source": [
    "model.add(Dense(number_of_classes,activation = 'softmax'))"
   ]
  },
  {
   "cell_type": "markdown",
   "id": "01c65a69",
   "metadata": {},
   "source": [
    "## Compiling The Model"
   ]
  },
  {
   "cell_type": "code",
   "execution_count": 7,
   "id": "9c699bc4",
   "metadata": {},
   "outputs": [],
   "source": [
    "model.compile(loss= 'categorical_crossentropy', optimizer=\"Adam\", metrics=['accuracy'])"
   ]
  },
  {
   "cell_type": "code",
   "execution_count": 8,
   "id": "f4f8e7db",
   "metadata": {},
   "outputs": [],
   "source": [
    "x_train = np.asarray(x_train)\n",
    "y_train = np.asarray(y_train)"
   ]
  },
  {
   "cell_type": "markdown",
   "id": "8e705a46",
   "metadata": {},
   "source": [
    "## Train The Model"
   ]
  },
  {
   "cell_type": "code",
   "execution_count": 9,
   "id": "ddf16013",
   "metadata": {},
   "outputs": [
    {
     "name": "stdout",
     "output_type": "stream",
     "text": [
      "Epoch 1/5\n",
      "1875/1875 [==============================] - 404s 213ms/step - loss: 0.2249 - accuracy: 0.9514 - val_loss: 0.0874 - val_accuracy: 0.9750\n",
      "Epoch 2/5\n",
      "1875/1875 [==============================] - 399s 213ms/step - loss: 0.0678 - accuracy: 0.9793 - val_loss: 0.0755 - val_accuracy: 0.9777\n",
      "Epoch 3/5\n",
      "1875/1875 [==============================] - 383s 204ms/step - loss: 0.0483 - accuracy: 0.9847 - val_loss: 0.1004 - val_accuracy: 0.9739\n",
      "Epoch 4/5\n",
      "1875/1875 [==============================] - 398s 212ms/step - loss: 0.0371 - accuracy: 0.9883 - val_loss: 0.1025 - val_accuracy: 0.9759\n",
      "Epoch 5/5\n",
      "1875/1875 [==============================] - 403s 215ms/step - loss: 0.0322 - accuracy: 0.9902 - val_loss: 0.1780 - val_accuracy: 0.9605\n"
     ]
    },
    {
     "data": {
      "text/plain": [
       "<keras.callbacks.History at 0x21fc835b430>"
      ]
     },
     "execution_count": 9,
     "metadata": {},
     "output_type": "execute_result"
    }
   ],
   "source": [
    "model.fit(x_train, y_train, validation_data=(x_test, y_test), epochs=5, batch_size=32)"
   ]
  },
  {
   "cell_type": "markdown",
   "id": "174f1906",
   "metadata": {},
   "source": [
    "## Observing The Metrices"
   ]
  },
  {
   "cell_type": "code",
   "execution_count": 10,
   "id": "5d75b541",
   "metadata": {},
   "outputs": [
    {
     "name": "stdout",
     "output_type": "stream",
     "text": [
      "Metrics (Test loss &Test Accuracy) : \n",
      "[0.17797836661338806, 0.9605000019073486]\n"
     ]
    }
   ],
   "source": [
    "metrics = model.evaluate(x_test, y_test, verbose=0)\n",
    "print(\"Metrics (Test loss &Test Accuracy) : \")\n",
    "print(metrics)"
   ]
  },
  {
   "cell_type": "code",
   "execution_count": 11,
   "id": "01f4404f",
   "metadata": {},
   "outputs": [
    {
     "name": "stdout",
     "output_type": "stream",
     "text": [
      "1/1 [==============================] - 1s 843ms/step\n",
      "[[1.2645445e-17 7.7398939e-17 1.9028704e-13 1.3597123e-06 6.8469548e-05\n",
      "  5.6204458e-10 2.8931941e-15 4.1166891e-07 5.2552567e-09 9.9992979e-01]]\n"
     ]
    }
   ],
   "source": [
    "prediction=model.predict(x_test[6000:6001])\n",
    "print(prediction)"
   ]
  },
  {
   "cell_type": "code",
   "execution_count": 12,
   "id": "b0de6df4",
   "metadata": {},
   "outputs": [
    {
     "data": {
      "text/plain": [
       "<matplotlib.image.AxesImage at 0x21fd4a57b50>"
      ]
     },
     "execution_count": 12,
     "metadata": {},
     "output_type": "execute_result"
    },
    {
     "data": {
      "image/png": "[encoded data removed]",
      "text/plain": [
       "<Figure size 720x576 with 1 Axes>"
      ]
     },
     "metadata": {
      "needs_background": "light"
     },
     "output_type": "display_data"
    }
   ],
   "source": [
    "plt.figure(figsize=(10,8))\n",
    "plt.imshow(x_test[6000])"
   ]
  },
  {
   "cell_type": "code",
   "execution_count": 13,
   "id": "4bfe247c",
   "metadata": {},
   "outputs": [
    {
     "name": "stdout",
     "output_type": "stream",
     "text": [
      "[9]\n"
     ]
    }
   ],
   "source": [
    "print(np.argmax(prediction, axis=1))"
   ]
  },
  {
   "cell_type": "markdown",
   "id": "b60ff480",
   "metadata": {},
   "source": [
    "## Save The Model"
   ]
  },
  {
   "cell_type": "code",
   "execution_count": 14,
   "id": "2e922fef",
   "metadata": {},
   "outputs": [],
   "source": [
    "model.save('models/mnistCNN.h5')"
   ]
  },
  {
   "cell_type": "code",
   "execution_count": null,
   "id": "b423ffea",
   "metadata": {},
   "outputs": [],
   "source": []
  }
 ],
 "metadata": {
  "kernelspec": {
   "display_name": "Python 3 (ipykernel)",
   "language": "python",
   "name": "python3"
  },
  "language_info": {
   "codemirror_mode": {
    "name": "ipython",
    "version": 3
   },
   "file_extension": ".py",
   "mimetype": "text/x-python",
   "name": "python",
   "nbconvert_exporter": "python",
   "pygments_lexer": "ipython3",
   "version": "3.10.4"
  }
 },
 "nbformat": 4,
 "nbformat_minor": 5
}
