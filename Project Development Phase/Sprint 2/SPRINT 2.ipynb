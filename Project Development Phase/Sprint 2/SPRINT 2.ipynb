{
 "cells": [
  {
   "cell_type": "markdown",
   "id": "c0c3ae2f",
   "metadata": {},
   "source": [
    "# SPRINT 2"
   ]
  },
  {
   "cell_type": "markdown",
   "id": "e899c747",
   "metadata": {},
   "source": [
    "#### PNT2022TMID27693"
   ]
  },
  {
   "cell_type": "code",
   "execution_count": 1,
   "id": "a9e0e5d4",
   "metadata": {},
   "outputs": [],
   "source": [
    "import numpy as np\n",
    "import tensorflow\n",
    "from tensorflow.keras.datasets import mnist \n",
    "from tensorflow.keras.models import Sequential \n",
    "from tensorflow.keras import layers \n",
    "from tensorflow.keras.layers import Dense, Flatten \n",
    "from tensorflow.keras.layers import Conv2D \n",
    "from keras.optimizers import Adam \n",
    "from keras. utils import np_utils\n",
    "import matplotlib.pyplot as plt   "
   ]
  },
  {
   "cell_type": "code",
   "execution_count": 2,
   "id": "fec66d97",
   "metadata": {},
   "outputs": [],
   "source": [
    "(x_train, y_train), (x_test, y_test)=mnist.load_data ()\n",
    "x_train=x_train.reshape (60000, 28, 28, 1).astype('float32')\n",
    "x_test=x_test.reshape (10000, 28, 28, 1).astype ('float32')\n",
    "number_of_classes = 10  \n",
    "y_train = np_utils.to_categorical (y_train, number_of_classes) \n",
    "y_test = np_utils.to_categorical (y_test, number_of_classes)"
   ]
  },
  {
   "cell_type": "markdown",
   "id": "70f8cbc7",
   "metadata": {},
   "source": [
    "## Add CNN Layer"
   ]
  },
  {
   "cell_type": "code",
   "execution_count": 3,
   "id": "0699c33b",
   "metadata": {},
   "outputs": [],
   "source": [
    "model=Sequential ()"
   ]
  },
  {
   "cell_type": "code",
   "execution_count": 4,
   "id": "2ac8f962",
   "metadata": {},
   "outputs": [],
   "source": [
    "model.add(Conv2D(64, (3, 3), input_shape=(28, 28, 1), activation='relu'))\n",
    "model.add(Conv2D(32, (3, 3), activation = 'relu'))"
   ]
  },
  {
   "cell_type": "code",
   "execution_count": 5,
   "id": "24b7eb45",
   "metadata": {},
   "outputs": [],
   "source": [
    "model.add(Flatten())"
   ]
  },
  {
   "cell_type": "code",
   "execution_count": 6,
   "id": "7a068218",
   "metadata": {},
   "outputs": [],
   "source": [
    "model.add(Dense(number_of_classes,activation = 'softmax'))"
   ]
  },
  {
   "cell_type": "markdown",
   "id": "01c65a69",
   "metadata": {},
   "source": [
    "## Compiling The Model"
   ]
  },
  {
   "cell_type": "code",
   "execution_count": 7,
   "id": "9c699bc4",
   "metadata": {},
   "outputs": [],
   "source": [
    "model.compile(loss= 'categorical_crossentropy', optimizer=\"Adam\", metrics=['accuracy'])"
   ]
  },
  {
   "cell_type": "code",
   "execution_count": 8,
   "id": "f4f8e7db",
   "metadata": {},
   "outputs": [],
   "source": [
    "x_train = np.asarray(x_train)\n",
    "y_train = np.asarray(y_train)"
   ]
  },
  {
   "cell_type": "markdown",
   "id": "8e705a46",
   "metadata": {},
   "source": [
    "## Train The Model"
   ]
  },
  {
   "cell_type": "code",
   "execution_count": 9,
   "id": "ddf16013",
   "metadata": {},
   "outputs": [
    {
     "name": "stdout",
     "output_type": "stream",
     "text": [
      "Epoch 1/5\n",
      "1875/1875 [==============================] - 142s 75ms/step - loss: 0.1989 - accuracy: 0.9542 - val_loss: 0.0849 - val_accuracy: 0.9738\n",
      "Epoch 2/5\n",
      "1875/1875 [==============================] - 210s 112ms/step - loss: 0.0652 - accuracy: 0.9801 - val_loss: 0.0688 - val_accuracy: 0.9801\n",
      "Epoch 3/5\n",
      "1875/1875 [==============================] - 179s 95ms/step - loss: 0.0466 - accuracy: 0.9851 - val_loss: 0.0791 - val_accuracy: 0.9794\n",
      "Epoch 4/5\n",
      "1875/1875 [==============================] - 215s 115ms/step - loss: 0.0342 - accuracy: 0.9894 - val_loss: 0.0899 - val_accuracy: 0.9745\n",
      "Epoch 5/5\n",
      "1875/1875 [==============================] - 177s 95ms/step - loss: 0.0284 - accuracy: 0.9913 - val_loss: 0.0933 - val_accuracy: 0.9800\n"
     ]
    },
    {
     "data": {
      "text/plain": [
       "<keras.callbacks.History at 0x17470784cd0>"
      ]
     },
     "execution_count": 9,
     "metadata": {},
     "output_type": "execute_result"
    }
   ],
   "source": [
    "model.fit(x_train, y_train, validation_data=(x_test, y_test), epochs=5, batch_size=32)"
   ]
  },
  {
   "cell_type": "markdown",
   "id": "174f1906",
   "metadata": {},
   "source": [
    "## Observing The Metrices"
   ]
  },
  {
   "cell_type": "code",
   "execution_count": 10,
   "id": "5d75b541",
   "metadata": {},
   "outputs": [
    {
     "name": "stdout",
     "output_type": "stream",
     "text": [
      "Metrics (Test loss &Test Accuracy) : \n",
      "[0.09330402314662933, 0.9800000190734863]\n"
     ]
    }
   ],
   "source": [
    "metrics = model.evaluate(x_test, y_test, verbose=0)\n",
    "print(\"Metrics (Test loss &Test Accuracy) : \")\n",
    "print(metrics)"
   ]
  },
  {
   "cell_type": "code",
   "execution_count": 11,
   "id": "01f4404f",
   "metadata": {},
   "outputs": [
    {
     "name": "stdout",
     "output_type": "stream",
     "text": [
      "1/1 [==============================] - 0s 303ms/step\n",
      "[[1.5700993e-12 4.1834502e-16 2.7402531e-12 9.3891288e-07 9.3042974e-07\n",
      "  1.4103222e-08 3.3308633e-15 7.0691283e-05 7.0403892e-08 9.9992728e-01]]\n"
     ]
    }
   ],
   "source": [
    "prediction=model.predict(x_test[6000:6001])\n",
    "print(prediction)"
   ]
  },
  {
   "cell_type": "code",
   "execution_count": 16,
   "id": "b0de6df4",
   "metadata": {},
   "outputs": [
    {
     "data": {
      "text/plain": [
       "<matplotlib.image.AxesImage at 0x17482257b80>"
      ]
     },
     "execution_count": 16,
     "metadata": {},
     "output_type": "execute_result"
    },
    {
     "data": {
      "image/png": "[encoded data removed]",
      "text/plain": [
       "<Figure size 1000x800 with 1 Axes>"
      ]
     },
     "metadata": {},
     "output_type": "display_data"
    }
   ],
   "source": [
    "plt.figure(figsize=(10,8))\n",
    "plt.imshow(x_test[6000])"
   ]
  },
  {
   "cell_type": "code",
   "execution_count": 13,
   "id": "4bfe247c",
   "metadata": {},
   "outputs": [
    {
     "name": "stdout",
     "output_type": "stream",
     "text": [
      "[9]\n"
     ]
    }
   ],
   "source": [
    "print(np.argmax(prediction, axis=1))"
   ]
  },
  {
   "cell_type": "markdown",
   "id": "b60ff480",
   "metadata": {},
   "source": [
    "## Save The Model"
   ]
  },
  {
   "cell_type": "code",
   "execution_count": 14,
   "id": "2e922fef",
   "metadata": {},
   "outputs": [],
   "source": [
    "model.save('models/mnistCNN.h5')"
   ]
  },
  {
   "cell_type": "code",
   "execution_count": null,
   "id": "b423ffea",
   "metadata": {},
   "outputs": [],
   "source": []
  }
 ],
 "metadata": {
  "kernelspec": {
   "display_name": "Python 3.9.13 64-bit (microsoft store)",
   "language": "python",
   "name": "python3"
  },
  "language_info": {
   "codemirror_mode": {
    "name": "ipython",
    "version": 3
   },
   "file_extension": ".py",
   "mimetype": "text/x-python",
   "name": "python",
   "nbconvert_exporter": "python",
   "pygments_lexer": "ipython3",
   "version": "3.9.13"
  },
  "vscode": {
   "interpreter": {
    "hash": "8e284ee3255a07ad8bf76694974743c4c81cb57e7c969474d752d949b11d721e"
   }
  }
 },
 "nbformat": 4,
 "nbformat_minor": 5
}
